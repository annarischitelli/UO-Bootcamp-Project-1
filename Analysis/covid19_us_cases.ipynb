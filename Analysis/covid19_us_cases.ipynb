{
 "metadata": {
  "language_info": {
   "codemirror_mode": {
    "name": "ipython",
    "version": 3
   },
   "file_extension": ".py",
   "mimetype": "text/x-python",
   "name": "python",
   "nbconvert_exporter": "python",
   "pygments_lexer": "ipython3",
   "version": "3.8.3-final"
  },
  "orig_nbformat": 2,
  "kernelspec": {
   "name": "python3",
   "display_name": "Python 3"
  }
 },
 "nbformat": 4,
 "nbformat_minor": 2,
 "cells": [
  {
   "cell_type": "code",
   "execution_count": null,
   "metadata": {},
   "outputs": [],
   "source": [
    "# Dependencies and Setup\n",
    "import matplotlib.pyplot as plt\n",
    "import pandas as pd\n",
    "import numpy as np\n",
    "import requests\n",
    "import json\n",
    "import time\n",
    "import gmaps\n",
    "from scipy.stats import linregress\n",
    "from pprint import pprint\n",
    "\n",
    "covidcasesus_pd = \"../Resources/covid_confirmed_usafacts.csv\"\n",
    "covidbycounty_pd = \"../Resources/covid_county_population_usafacts.csv\""
   ]
  },
  {
   "cell_type": "code",
   "execution_count": 2,
   "metadata": {},
   "outputs": [],
   "source": [
    "covidcasesus_pd = pd.read_csv(covidcasesus_pd, encoding=\"ISO-8859-1\")\n",
    "\n",
    "covidcasesus_pd.head()"
   ]
  },
  {
   "cell_type": "code",
   "execution_count": null,
   "metadata": {},
   "outputs": [],
   "source": [
    "covidbycounty_pd = pd.read_csv(covidbycounty_pd, encoding=\"ISO-8859-1\")\n",
    "\n",
    "covidbycounty_pd.head()"
   ]
  }
 ]
}